{
 "cells": [
  {
   "cell_type": "markdown",
   "id": "1ede896d",
   "metadata": {},
   "source": [
    "# A short notebook to explore the UK power usage and any affect from lockdwon in 2020.\n",
    "\n",
    "Key questions:\n",
    "\n",
    "1) What is the power usage across the data set provided?\n",
    "\n",
    "2) What regular pattern can be seen in the data, i.e. seasonality?\n",
    "\n",
    "3) Is there any affect on power load from lockdown?"
   ]
  },
  {
   "cell_type": "markdown",
   "id": "bbf2d084",
   "metadata": {},
   "source": [
    "Import data set and libraries"
   ]
  },
  {
   "cell_type": "code",
   "execution_count": 1,
   "id": "1cfad904",
   "metadata": {},
   "outputs": [],
   "source": [
    "# Import som libraries for some data wrangling\n",
    "import pandas as pd\n",
    "import numpy as np"
   ]
  },
  {
   "cell_type": "code",
   "execution_count": 2,
   "id": "a5970561",
   "metadata": {},
   "outputs": [
    {
     "data": {
      "text/html": [
       "<div>\n",
       "<style scoped>\n",
       "    .dataframe tbody tr th:only-of-type {\n",
       "        vertical-align: middle;\n",
       "    }\n",
       "\n",
       "    .dataframe tbody tr th {\n",
       "        vertical-align: top;\n",
       "    }\n",
       "\n",
       "    .dataframe thead th {\n",
       "        text-align: right;\n",
       "    }\n",
       "</style>\n",
       "<table border=\"1\" class=\"dataframe\">\n",
       "  <thead>\n",
       "    <tr style=\"text-align: right;\">\n",
       "      <th></th>\n",
       "      <th>start</th>\n",
       "      <th>end</th>\n",
       "      <th>load</th>\n",
       "    </tr>\n",
       "  </thead>\n",
       "  <tbody>\n",
       "    <tr>\n",
       "      <th>0</th>\n",
       "      <td>2015-01-01 00:00:00+00:00</td>\n",
       "      <td>2015-01-01 00:30:00+00:00</td>\n",
       "      <td>27123.0</td>\n",
       "    </tr>\n",
       "    <tr>\n",
       "      <th>1</th>\n",
       "      <td>2015-01-01 00:30:00+00:00</td>\n",
       "      <td>2015-01-01 01:00:00+00:00</td>\n",
       "      <td>26758.0</td>\n",
       "    </tr>\n",
       "    <tr>\n",
       "      <th>2</th>\n",
       "      <td>2015-01-01 01:00:00+00:00</td>\n",
       "      <td>2015-01-01 01:30:00+00:00</td>\n",
       "      <td>27561.0</td>\n",
       "    </tr>\n",
       "    <tr>\n",
       "      <th>3</th>\n",
       "      <td>2015-01-01 01:30:00+00:00</td>\n",
       "      <td>2015-01-01 02:00:00+00:00</td>\n",
       "      <td>26770.0</td>\n",
       "    </tr>\n",
       "    <tr>\n",
       "      <th>4</th>\n",
       "      <td>2015-01-01 02:00:00+00:00</td>\n",
       "      <td>2015-01-01 02:30:00+00:00</td>\n",
       "      <td>25318.0</td>\n",
       "    </tr>\n",
       "  </tbody>\n",
       "</table>\n",
       "</div>"
      ],
      "text/plain": [
       "                       start                        end     load\n",
       "0  2015-01-01 00:00:00+00:00  2015-01-01 00:30:00+00:00  27123.0\n",
       "1  2015-01-01 00:30:00+00:00  2015-01-01 01:00:00+00:00  26758.0\n",
       "2  2015-01-01 01:00:00+00:00  2015-01-01 01:30:00+00:00  27561.0\n",
       "3  2015-01-01 01:30:00+00:00  2015-01-01 02:00:00+00:00  26770.0\n",
       "4  2015-01-01 02:00:00+00:00  2015-01-01 02:30:00+00:00  25318.0"
      ]
     },
     "execution_count": 2,
     "metadata": {},
     "output_type": "execute_result"
    }
   ],
   "source": [
    "#Import first data set, let's start with GB and see what we have\n",
    "df_power_GB = pd.read_csv(r'C:\\Users\\andy_\\OneDrive\\Data Science\\Energy Consumption Data Files\\archive\\gb.csv')\n",
    "\n",
    "#Check head\n",
    "df_power_GB.head()"
   ]
  },
  {
   "cell_type": "code",
   "execution_count": 3,
   "id": "4bc60f95",
   "metadata": {},
   "outputs": [
    {
     "data": {
      "text/html": [
       "<div>\n",
       "<style scoped>\n",
       "    .dataframe tbody tr th:only-of-type {\n",
       "        vertical-align: middle;\n",
       "    }\n",
       "\n",
       "    .dataframe tbody tr th {\n",
       "        vertical-align: top;\n",
       "    }\n",
       "\n",
       "    .dataframe thead th {\n",
       "        text-align: right;\n",
       "    }\n",
       "</style>\n",
       "<table border=\"1\" class=\"dataframe\">\n",
       "  <thead>\n",
       "    <tr style=\"text-align: right;\">\n",
       "      <th></th>\n",
       "      <th>start</th>\n",
       "      <th>end</th>\n",
       "      <th>load</th>\n",
       "    </tr>\n",
       "  </thead>\n",
       "  <tbody>\n",
       "    <tr>\n",
       "      <th>97809</th>\n",
       "      <td>2020-07-31 21:30:00+00:00</td>\n",
       "      <td>2020-07-31 22:00:00+00:00</td>\n",
       "      <td>26433.0</td>\n",
       "    </tr>\n",
       "    <tr>\n",
       "      <th>97810</th>\n",
       "      <td>2020-07-31 22:00:00+00:00</td>\n",
       "      <td>2020-07-31 22:30:00+00:00</td>\n",
       "      <td>25198.0</td>\n",
       "    </tr>\n",
       "    <tr>\n",
       "      <th>97811</th>\n",
       "      <td>2020-07-31 22:30:00+00:00</td>\n",
       "      <td>2020-07-31 23:00:00+00:00</td>\n",
       "      <td>23864.0</td>\n",
       "    </tr>\n",
       "    <tr>\n",
       "      <th>97812</th>\n",
       "      <td>2020-07-31 23:00:00+00:00</td>\n",
       "      <td>2020-07-31 23:30:00+00:00</td>\n",
       "      <td>23336.0</td>\n",
       "    </tr>\n",
       "    <tr>\n",
       "      <th>97813</th>\n",
       "      <td>2020-07-31 23:30:00+00:00</td>\n",
       "      <td>2020-08-01 00:00:00+00:00</td>\n",
       "      <td>22488.0</td>\n",
       "    </tr>\n",
       "  </tbody>\n",
       "</table>\n",
       "</div>"
      ],
      "text/plain": [
       "                           start                        end     load\n",
       "97809  2020-07-31 21:30:00+00:00  2020-07-31 22:00:00+00:00  26433.0\n",
       "97810  2020-07-31 22:00:00+00:00  2020-07-31 22:30:00+00:00  25198.0\n",
       "97811  2020-07-31 22:30:00+00:00  2020-07-31 23:00:00+00:00  23864.0\n",
       "97812  2020-07-31 23:00:00+00:00  2020-07-31 23:30:00+00:00  23336.0\n",
       "97813  2020-07-31 23:30:00+00:00  2020-08-01 00:00:00+00:00  22488.0"
      ]
     },
     "execution_count": 3,
     "metadata": {},
     "output_type": "execute_result"
    }
   ],
   "source": [
    "#Check tail\n",
    "df_power_GB.tail()"
   ]
  },
  {
   "cell_type": "markdown",
   "id": "94018543",
   "metadata": {},
   "source": [
    "Perform some data wrangling to get it all ship shape and ready for some exploratory data analysis"
   ]
  },
  {
   "cell_type": "code",
   "execution_count": 4,
   "id": "661c56be",
   "metadata": {},
   "outputs": [
    {
     "data": {
      "text/html": [
       "<div>\n",
       "<style scoped>\n",
       "    .dataframe tbody tr th:only-of-type {\n",
       "        vertical-align: middle;\n",
       "    }\n",
       "\n",
       "    .dataframe tbody tr th {\n",
       "        vertical-align: top;\n",
       "    }\n",
       "\n",
       "    .dataframe thead th {\n",
       "        text-align: right;\n",
       "    }\n",
       "</style>\n",
       "<table border=\"1\" class=\"dataframe\">\n",
       "  <thead>\n",
       "    <tr style=\"text-align: right;\">\n",
       "      <th></th>\n",
       "      <th>load</th>\n",
       "      <th>Date</th>\n",
       "    </tr>\n",
       "  </thead>\n",
       "  <tbody>\n",
       "    <tr>\n",
       "      <th>0</th>\n",
       "      <td>27123.0</td>\n",
       "      <td>2015-01-01</td>\n",
       "    </tr>\n",
       "    <tr>\n",
       "      <th>1</th>\n",
       "      <td>26758.0</td>\n",
       "      <td>2015-01-01</td>\n",
       "    </tr>\n",
       "    <tr>\n",
       "      <th>2</th>\n",
       "      <td>27561.0</td>\n",
       "      <td>2015-01-01</td>\n",
       "    </tr>\n",
       "    <tr>\n",
       "      <th>3</th>\n",
       "      <td>26770.0</td>\n",
       "      <td>2015-01-01</td>\n",
       "    </tr>\n",
       "    <tr>\n",
       "      <th>4</th>\n",
       "      <td>25318.0</td>\n",
       "      <td>2015-01-01</td>\n",
       "    </tr>\n",
       "  </tbody>\n",
       "</table>\n",
       "</div>"
      ],
      "text/plain": [
       "      load        Date\n",
       "0  27123.0  2015-01-01\n",
       "1  26758.0  2015-01-01\n",
       "2  27561.0  2015-01-01\n",
       "3  26770.0  2015-01-01\n",
       "4  25318.0  2015-01-01"
      ]
     },
     "execution_count": 4,
     "metadata": {},
     "output_type": "execute_result"
    }
   ],
   "source": [
    "#Next I need to format the date and time columns:\n",
    "\n",
    "    #Drop time from 'start' and 'end' and Split column into multiple columns by delimiter   \n",
    "df_power_GB_Start = df_power_GB['start'].str.split(' ', expand=True)\n",
    "    #Drop time column\n",
    "df_power_GB_Start = df_power_GB_Start.drop(columns=[1])\n",
    "    #Merge to df_power_GB\n",
    "df_power_GB = df_power_GB.join(df_power_GB_Start)\n",
    "    #Drop existing 'start'and 'end' from df_power_GB\n",
    "df_power_GB = df_power_GB.drop(columns=['start', 'end'])\n",
    "    #change column 0 name to 'Date'\n",
    "df_power_GB = df_power_GB.rename(columns={0: \"Date\"})\n",
    "    #Check the output\n",
    "df_power_GB.head()"
   ]
  },
  {
   "cell_type": "code",
   "execution_count": 5,
   "id": "41528727",
   "metadata": {},
   "outputs": [
    {
     "data": {
      "text/html": [
       "<div>\n",
       "<style scoped>\n",
       "    .dataframe tbody tr th:only-of-type {\n",
       "        vertical-align: middle;\n",
       "    }\n",
       "\n",
       "    .dataframe tbody tr th {\n",
       "        vertical-align: top;\n",
       "    }\n",
       "\n",
       "    .dataframe thead th {\n",
       "        text-align: right;\n",
       "    }\n",
       "</style>\n",
       "<table border=\"1\" class=\"dataframe\">\n",
       "  <thead>\n",
       "    <tr style=\"text-align: right;\">\n",
       "      <th></th>\n",
       "      <th>load</th>\n",
       "      <th>Date</th>\n",
       "    </tr>\n",
       "  </thead>\n",
       "  <tbody>\n",
       "    <tr>\n",
       "      <th>97809</th>\n",
       "      <td>26433.0</td>\n",
       "      <td>2020-07-31</td>\n",
       "    </tr>\n",
       "    <tr>\n",
       "      <th>97810</th>\n",
       "      <td>25198.0</td>\n",
       "      <td>2020-07-31</td>\n",
       "    </tr>\n",
       "    <tr>\n",
       "      <th>97811</th>\n",
       "      <td>23864.0</td>\n",
       "      <td>2020-07-31</td>\n",
       "    </tr>\n",
       "    <tr>\n",
       "      <th>97812</th>\n",
       "      <td>23336.0</td>\n",
       "      <td>2020-07-31</td>\n",
       "    </tr>\n",
       "    <tr>\n",
       "      <th>97813</th>\n",
       "      <td>22488.0</td>\n",
       "      <td>2020-07-31</td>\n",
       "    </tr>\n",
       "  </tbody>\n",
       "</table>\n",
       "</div>"
      ],
      "text/plain": [
       "          load        Date\n",
       "97809  26433.0  2020-07-31\n",
       "97810  25198.0  2020-07-31\n",
       "97811  23864.0  2020-07-31\n",
       "97812  23336.0  2020-07-31\n",
       "97813  22488.0  2020-07-31"
      ]
     },
     "execution_count": 5,
     "metadata": {},
     "output_type": "execute_result"
    }
   ],
   "source": [
    "df_power_GB.tail()"
   ]
  },
  {
   "cell_type": "code",
   "execution_count": 6,
   "id": "1eb27931",
   "metadata": {},
   "outputs": [
    {
     "name": "stdout",
     "output_type": "stream",
     "text": [
      "load\n",
      "False    97814\n",
      "Name: load, dtype: int64\n",
      "\n",
      "Date\n",
      "False    97814\n",
      "Name: Date, dtype: int64\n",
      "\n"
     ]
    }
   ],
   "source": [
    "#Looks good. Now to check if the data set is complete\n",
    "missing_data = df_power_GB.isnull()\n",
    "\n",
    "for column in missing_data.columns.values.tolist():\n",
    "    print(column)\n",
    "    print (missing_data[column].value_counts())\n",
    "    print(\"\")    "
   ]
  },
  {
   "cell_type": "code",
   "execution_count": 7,
   "id": "9443b7ad",
   "metadata": {},
   "outputs": [
    {
     "name": "stderr",
     "output_type": "stream",
     "text": [
      "<ipython-input-7-c60c86af1096>:13: FutureWarning: Series.dt.weekofyear and Series.dt.week have been deprecated.  Please use Series.dt.isocalendar().week instead.\n",
      "  df_power_GB2['Week'] = df_power_GB2['Date'].dt.week\n"
     ]
    },
    {
     "data": {
      "text/html": [
       "<div>\n",
       "<style scoped>\n",
       "    .dataframe tbody tr th:only-of-type {\n",
       "        vertical-align: middle;\n",
       "    }\n",
       "\n",
       "    .dataframe tbody tr th {\n",
       "        vertical-align: top;\n",
       "    }\n",
       "\n",
       "    .dataframe thead th {\n",
       "        text-align: right;\n",
       "    }\n",
       "</style>\n",
       "<table border=\"1\" class=\"dataframe\">\n",
       "  <thead>\n",
       "    <tr style=\"text-align: right;\">\n",
       "      <th></th>\n",
       "      <th>load</th>\n",
       "      <th>Date</th>\n",
       "      <th>Year</th>\n",
       "      <th>Month</th>\n",
       "      <th>Week</th>\n",
       "    </tr>\n",
       "  </thead>\n",
       "  <tbody>\n",
       "    <tr>\n",
       "      <th>0</th>\n",
       "      <td>27123.0</td>\n",
       "      <td>2015-01-01</td>\n",
       "      <td>2015</td>\n",
       "      <td>01</td>\n",
       "      <td>01</td>\n",
       "    </tr>\n",
       "    <tr>\n",
       "      <th>1</th>\n",
       "      <td>26758.0</td>\n",
       "      <td>2015-01-01</td>\n",
       "      <td>2015</td>\n",
       "      <td>01</td>\n",
       "      <td>01</td>\n",
       "    </tr>\n",
       "    <tr>\n",
       "      <th>2</th>\n",
       "      <td>27561.0</td>\n",
       "      <td>2015-01-01</td>\n",
       "      <td>2015</td>\n",
       "      <td>01</td>\n",
       "      <td>01</td>\n",
       "    </tr>\n",
       "    <tr>\n",
       "      <th>3</th>\n",
       "      <td>26770.0</td>\n",
       "      <td>2015-01-01</td>\n",
       "      <td>2015</td>\n",
       "      <td>01</td>\n",
       "      <td>01</td>\n",
       "    </tr>\n",
       "    <tr>\n",
       "      <th>4</th>\n",
       "      <td>25318.0</td>\n",
       "      <td>2015-01-01</td>\n",
       "      <td>2015</td>\n",
       "      <td>01</td>\n",
       "      <td>01</td>\n",
       "    </tr>\n",
       "  </tbody>\n",
       "</table>\n",
       "</div>"
      ],
      "text/plain": [
       "      load       Date  Year Month Week\n",
       "0  27123.0 2015-01-01  2015    01   01\n",
       "1  26758.0 2015-01-01  2015    01   01\n",
       "2  27561.0 2015-01-01  2015    01   01\n",
       "3  26770.0 2015-01-01  2015    01   01\n",
       "4  25318.0 2015-01-01  2015    01   01"
      ]
     },
     "execution_count": 7,
     "metadata": {},
     "output_type": "execute_result"
    }
   ],
   "source": [
    "#Great no missing data but I need to format the date column\n",
    "df_power_GB['Date'] = pd.to_datetime(df_power_GB['Date'])\n",
    "#check output\n",
    "df_power_GB.dtypes\n",
    "\n",
    "#create new df GB2\n",
    "df_power_GB2 = df_power_GB\n",
    "\n",
    "#Assign Year-Week Num Ref\n",
    "df_power_GB2['Year'] = df_power_GB2['Date'].dt.year\n",
    "df_power_GB2['Month'] = df_power_GB2['Date'].dt.month\n",
    "df_power_GB2['Month'] = df_power_GB2['Month'].apply('{0:0>2}'.format)\n",
    "df_power_GB2['Week'] = df_power_GB2['Date'].dt.week\n",
    "df_power_GB2['Week'] = df_power_GB2['Week'].apply('{0:0>2}'.format)\n",
    "#Add new columns to index\n",
    "df_power_GB2.set_index(['Year','Month','Week'], append=True)\n",
    "\n",
    "df_power_GB2.head()"
   ]
  },
  {
   "cell_type": "markdown",
   "id": "6e5777c9",
   "metadata": {},
   "source": [
    "With the data wrangling now complete, I will perform some EDA to answer my questions.\n",
    "\n",
    "Q1. What is the UK's power load over the period?"
   ]
  },
  {
   "cell_type": "code",
   "execution_count": 8,
   "id": "f59b190a",
   "metadata": {},
   "outputs": [
    {
     "data": {
      "text/html": [
       "<div>\n",
       "<style scoped>\n",
       "    .dataframe tbody tr th:only-of-type {\n",
       "        vertical-align: middle;\n",
       "    }\n",
       "\n",
       "    .dataframe tbody tr th {\n",
       "        vertical-align: top;\n",
       "    }\n",
       "\n",
       "    .dataframe thead th {\n",
       "        text-align: right;\n",
       "    }\n",
       "</style>\n",
       "<table border=\"1\" class=\"dataframe\">\n",
       "  <thead>\n",
       "    <tr style=\"text-align: right;\">\n",
       "      <th></th>\n",
       "      <th>Year</th>\n",
       "      <th>Month</th>\n",
       "      <th>Week</th>\n",
       "      <th>load</th>\n",
       "      <th>Year-Month</th>\n",
       "    </tr>\n",
       "  </thead>\n",
       "  <tbody>\n",
       "    <tr>\n",
       "      <th>0</th>\n",
       "      <td>2015</td>\n",
       "      <td>01</td>\n",
       "      <td>01</td>\n",
       "      <td>5812925.0</td>\n",
       "      <td>2015.01</td>\n",
       "    </tr>\n",
       "    <tr>\n",
       "      <th>1</th>\n",
       "      <td>2015</td>\n",
       "      <td>01</td>\n",
       "      <td>02</td>\n",
       "      <td>13507853.0</td>\n",
       "      <td>2015.01</td>\n",
       "    </tr>\n",
       "    <tr>\n",
       "      <th>2</th>\n",
       "      <td>2015</td>\n",
       "      <td>01</td>\n",
       "      <td>03</td>\n",
       "      <td>14515654.0</td>\n",
       "      <td>2015.01</td>\n",
       "    </tr>\n",
       "    <tr>\n",
       "      <th>3</th>\n",
       "      <td>2015</td>\n",
       "      <td>01</td>\n",
       "      <td>04</td>\n",
       "      <td>15008103.0</td>\n",
       "      <td>2015.01</td>\n",
       "    </tr>\n",
       "    <tr>\n",
       "      <th>4</th>\n",
       "      <td>2015</td>\n",
       "      <td>01</td>\n",
       "      <td>05</td>\n",
       "      <td>12875767.0</td>\n",
       "      <td>2015.01</td>\n",
       "    </tr>\n",
       "  </tbody>\n",
       "</table>\n",
       "</div>"
      ],
      "text/plain": [
       "   Year Month Week        load Year-Month\n",
       "0  2015    01   01   5812925.0    2015.01\n",
       "1  2015    01   02  13507853.0    2015.01\n",
       "2  2015    01   03  14515654.0    2015.01\n",
       "3  2015    01   04  15008103.0    2015.01\n",
       "4  2015    01   05  12875767.0    2015.01"
      ]
     },
     "execution_count": 8,
     "metadata": {},
     "output_type": "execute_result"
    }
   ],
   "source": [
    "#First I would like to Group data by Year, Month, Week to make it easier to look at\n",
    "df_power_GB2 = df_power_GB2[['Year','Month','Week','load']]\n",
    "df_power_GB2 = df_power_GB2.groupby(['Year','Month','Week'],as_index=False).sum()\n",
    "df_power_GB2['Year'] = df_power_GB2['Year'].apply(str)\n",
    "df_power_GB2['Year-Month'] = df_power_GB2[\"Year\"] + '.' + df_power_GB2[\"Month\"]\n",
    "df_power_GB2.head()"
   ]
  },
  {
   "cell_type": "code",
   "execution_count": 9,
   "id": "78b3416d",
   "metadata": {},
   "outputs": [
    {
     "data": {
      "text/plain": [
       "<AxesSubplot:xlabel='Year-Month'>"
      ]
     },
     "execution_count": 9,
     "metadata": {},
     "output_type": "execute_result"
    },
    {
     "data": {
      "image/png": "[encoded data removed]",
      "text/plain": [
       "<Figure size 432x288 with 1 Axes>"
      ]
     },
     "metadata": {
      "needs_background": "light"
     },
     "output_type": "display_data"
    }
   ],
   "source": [
    "#To explore the seasonality clearly I will group the data by year-month and use decomposition model to explore the data\n",
    "\n",
    "#create new df from df_power_GB\n",
    "df_power_GB_MTH = df_power_GB2\n",
    "\n",
    "#Set data type on new column\n",
    "df_power_GB_MTH['Year-Month'] = pd.to_datetime(df_power_GB_MTH['Year-Month'])\n",
    "\n",
    "#group the data by Year-Month\n",
    "df_power_GB_MTH = df_power_GB2.groupby(['Year-Month'],as_index=True).sum()\n",
    "\n",
    "#Plot results\n",
    "import matplotlib.pyplot as plt\n",
    "df_power_GB_MTH.plot(grid=True)"
   ]
  },
  {
   "cell_type": "markdown",
   "id": "9fcc6211",
   "metadata": {},
   "source": [
    "As we can see from the above we are looking at a peak of just above 6 and a general trend downwards towards 4 in the summer of 2020. To look in a little more detail see below."
   ]
  },
  {
   "cell_type": "code",
   "execution_count": 22,
   "id": "85e82479",
   "metadata": {},
   "outputs": [
    {
     "data": {
      "text/html": [
       "<div>\n",
       "<style scoped>\n",
       "    .dataframe tbody tr th:only-of-type {\n",
       "        vertical-align: middle;\n",
       "    }\n",
       "\n",
       "    .dataframe tbody tr th {\n",
       "        vertical-align: top;\n",
       "    }\n",
       "\n",
       "    .dataframe thead th {\n",
       "        text-align: right;\n",
       "    }\n",
       "</style>\n",
       "<table border=\"1\" class=\"dataframe\">\n",
       "  <thead>\n",
       "    <tr style=\"text-align: right;\">\n",
       "      <th></th>\n",
       "      <th>load</th>\n",
       "    </tr>\n",
       "  </thead>\n",
       "  <tbody>\n",
       "    <tr>\n",
       "      <th>count</th>\n",
       "      <td>6.700000e+01</td>\n",
       "    </tr>\n",
       "    <tr>\n",
       "      <th>mean</th>\n",
       "      <td>5.123524e+07</td>\n",
       "    </tr>\n",
       "    <tr>\n",
       "      <th>std</th>\n",
       "      <td>5.500264e+06</td>\n",
       "    </tr>\n",
       "    <tr>\n",
       "      <th>min</th>\n",
       "      <td>3.891462e+07</td>\n",
       "    </tr>\n",
       "    <tr>\n",
       "      <th>25%</th>\n",
       "      <td>4.755959e+07</td>\n",
       "    </tr>\n",
       "    <tr>\n",
       "      <th>50%</th>\n",
       "      <td>5.099738e+07</td>\n",
       "    </tr>\n",
       "    <tr>\n",
       "      <th>75%</th>\n",
       "      <td>5.500174e+07</td>\n",
       "    </tr>\n",
       "    <tr>\n",
       "      <th>max</th>\n",
       "      <td>6.235820e+07</td>\n",
       "    </tr>\n",
       "  </tbody>\n",
       "</table>\n",
       "</div>"
      ],
      "text/plain": [
       "               load\n",
       "count  6.700000e+01\n",
       "mean   5.123524e+07\n",
       "std    5.500264e+06\n",
       "min    3.891462e+07\n",
       "25%    4.755959e+07\n",
       "50%    5.099738e+07\n",
       "75%    5.500174e+07\n",
       "max    6.235820e+07"
      ]
     },
     "execution_count": 22,
     "metadata": {},
     "output_type": "execute_result"
    }
   ],
   "source": [
    "df_power_GB_MTH.describe()"
   ]
  },
  {
   "cell_type": "code",
   "execution_count": null,
   "id": "a7877d3e",
   "metadata": {},
   "outputs": [],
   "source": []
  },
  {
   "cell_type": "markdown",
   "id": "7cfe3e10",
   "metadata": {},
   "source": [
    "Q2. What does the seasonailty of the data look like?\n",
    "\n",
    "For this I will use a decomposition model from statsmodels. It's a really useful tool and will show the data trends in my data set."
   ]
  },
  {
   "cell_type": "code",
   "execution_count": 10,
   "id": "0623bf5d",
   "metadata": {},
   "outputs": [
    {
     "data": {
      "image/png": "[encoded data removed]",
      "text/plain": [
       "<Figure size 432x288 with 4 Axes>"
      ]
     },
     "metadata": {
      "needs_background": "light"
     },
     "output_type": "display_data"
    }
   ],
   "source": [
    "#Import statsmodels and matplot lib, create 'additive' decomposition model and see the output\n",
    "\n",
    "import statsmodels.api as sm\n",
    "import matplotlib\n",
    "decomposition = sm.tsa.seasonal_decompose(df_power_GB_MTH, model = 'additive')\n",
    "fig = decomposition.plot()\n",
    "matplotlib.rcParams['figure.figsize'] = [30.0, 5.0]"
   ]
  },
  {
   "cell_type": "markdown",
   "id": "12cec924",
   "metadata": {},
   "source": [
    "As we can see from the 'Decomposition' model there is an overall downward trend in power usage over the last five years (see graph two).\n",
    "\n",
    "We can also see that there is consistant seasonal power usage, clearly this will be related to changes in the weather over the summer months (see graph three)."
   ]
  },
  {
   "cell_type": "markdown",
   "id": "380b627c",
   "metadata": {},
   "source": [
    "Q3. Given the above what does the COVID lockdown do to the data?\n",
    "\n",
    "First I'll pull in the COVID-19 Data and find the UK locdown start date."
   ]
  },
  {
   "cell_type": "code",
   "execution_count": 11,
   "id": "b2fc7304",
   "metadata": {},
   "outputs": [
    {
     "data": {
      "text/html": [
       "<div>\n",
       "<style scoped>\n",
       "    .dataframe tbody tr th:only-of-type {\n",
       "        vertical-align: middle;\n",
       "    }\n",
       "\n",
       "    .dataframe tbody tr th {\n",
       "        vertical-align: top;\n",
       "    }\n",
       "\n",
       "    .dataframe thead th {\n",
       "        text-align: right;\n",
       "    }\n",
       "</style>\n",
       "<table border=\"1\" class=\"dataframe\">\n",
       "  <thead>\n",
       "    <tr style=\"text-align: right;\">\n",
       "      <th></th>\n",
       "      <th>Country/Region</th>\n",
       "      <th>Province</th>\n",
       "      <th>Date</th>\n",
       "      <th>Type</th>\n",
       "      <th>Reference</th>\n",
       "    </tr>\n",
       "  </thead>\n",
       "  <tbody>\n",
       "    <tr>\n",
       "      <th>0</th>\n",
       "      <td>Afghanistan</td>\n",
       "      <td>NaN</td>\n",
       "      <td>24/03/2020</td>\n",
       "      <td>Full</td>\n",
       "      <td>https://www.thestatesman.com/world/afghan-govt...</td>\n",
       "    </tr>\n",
       "    <tr>\n",
       "      <th>1</th>\n",
       "      <td>Albania</td>\n",
       "      <td>NaN</td>\n",
       "      <td>08/03/2020</td>\n",
       "      <td>Full</td>\n",
       "      <td>https://en.wikipedia.org/wiki/2020_coronavirus...</td>\n",
       "    </tr>\n",
       "    <tr>\n",
       "      <th>2</th>\n",
       "      <td>Algeria</td>\n",
       "      <td>NaN</td>\n",
       "      <td>24/03/2020</td>\n",
       "      <td>Full</td>\n",
       "      <td>https://www.garda.com/crisis24/news-alerts/325...</td>\n",
       "    </tr>\n",
       "    <tr>\n",
       "      <th>3</th>\n",
       "      <td>Andorra</td>\n",
       "      <td>NaN</td>\n",
       "      <td>16/03/2020</td>\n",
       "      <td>Full</td>\n",
       "      <td>https://en.wikipedia.org/wiki/2020_coronavirus...</td>\n",
       "    </tr>\n",
       "    <tr>\n",
       "      <th>4</th>\n",
       "      <td>Angola</td>\n",
       "      <td>NaN</td>\n",
       "      <td>24/03/2020</td>\n",
       "      <td>Full</td>\n",
       "      <td>https://en.wikipedia.org/wiki/2020_coronavirus...</td>\n",
       "    </tr>\n",
       "  </tbody>\n",
       "</table>\n",
       "</div>"
      ],
      "text/plain": [
       "  Country/Region Province        Date  Type  \\\n",
       "0    Afghanistan      NaN  24/03/2020  Full   \n",
       "1        Albania      NaN  08/03/2020  Full   \n",
       "2        Algeria      NaN  24/03/2020  Full   \n",
       "3        Andorra      NaN  16/03/2020  Full   \n",
       "4         Angola      NaN  24/03/2020  Full   \n",
       "\n",
       "                                           Reference  \n",
       "0  https://www.thestatesman.com/world/afghan-govt...  \n",
       "1  https://en.wikipedia.org/wiki/2020_coronavirus...  \n",
       "2  https://www.garda.com/crisis24/news-alerts/325...  \n",
       "3  https://en.wikipedia.org/wiki/2020_coronavirus...  \n",
       "4  https://en.wikipedia.org/wiki/2020_coronavirus...  "
      ]
     },
     "execution_count": 11,
     "metadata": {},
     "output_type": "execute_result"
    }
   ],
   "source": [
    "#Load COVID Lockdown data set\n",
    "df_lockdown = pd.read_csv(r'C:\\Users\\andy_\\OneDrive\\Data Science\\COVID 19 Lockdown Dates\\archive\\countryLockdowndates.csv')\n",
    "\n",
    "#Check head\n",
    "df_lockdown.head()"
   ]
  },
  {
   "cell_type": "code",
   "execution_count": 12,
   "id": "9613e42f",
   "metadata": {},
   "outputs": [
    {
     "data": {
      "text/html": [
       "<div>\n",
       "<style scoped>\n",
       "    .dataframe tbody tr th:only-of-type {\n",
       "        vertical-align: middle;\n",
       "    }\n",
       "\n",
       "    .dataframe tbody tr th {\n",
       "        vertical-align: top;\n",
       "    }\n",
       "\n",
       "    .dataframe thead th {\n",
       "        text-align: right;\n",
       "    }\n",
       "</style>\n",
       "<table border=\"1\" class=\"dataframe\">\n",
       "  <thead>\n",
       "    <tr style=\"text-align: right;\">\n",
       "      <th></th>\n",
       "      <th>Country/Region</th>\n",
       "      <th>Province</th>\n",
       "      <th>Date</th>\n",
       "      <th>Type</th>\n",
       "      <th>Reference</th>\n",
       "    </tr>\n",
       "  </thead>\n",
       "  <tbody>\n",
       "    <tr>\n",
       "      <th>235</th>\n",
       "      <td>United Kingdom</td>\n",
       "      <td>Anguilla</td>\n",
       "      <td>18/03/2020</td>\n",
       "      <td>Full</td>\n",
       "      <td>https://en.wikipedia.org/wiki/2020_coronavirus...</td>\n",
       "    </tr>\n",
       "    <tr>\n",
       "      <th>236</th>\n",
       "      <td>United Kingdom</td>\n",
       "      <td>Bermuda</td>\n",
       "      <td>NaN</td>\n",
       "      <td>None</td>\n",
       "      <td>NaN</td>\n",
       "    </tr>\n",
       "    <tr>\n",
       "      <th>237</th>\n",
       "      <td>United Kingdom</td>\n",
       "      <td>British Virgin Islands</td>\n",
       "      <td>NaN</td>\n",
       "      <td>None</td>\n",
       "      <td>NaN</td>\n",
       "    </tr>\n",
       "    <tr>\n",
       "      <th>238</th>\n",
       "      <td>United Kingdom</td>\n",
       "      <td>Cayman Islands</td>\n",
       "      <td>NaN</td>\n",
       "      <td>None</td>\n",
       "      <td>NaN</td>\n",
       "    </tr>\n",
       "    <tr>\n",
       "      <th>239</th>\n",
       "      <td>United Kingdom</td>\n",
       "      <td>Channel Islands</td>\n",
       "      <td>NaN</td>\n",
       "      <td>None</td>\n",
       "      <td>NaN</td>\n",
       "    </tr>\n",
       "    <tr>\n",
       "      <th>240</th>\n",
       "      <td>United Kingdom</td>\n",
       "      <td>Gibraltar</td>\n",
       "      <td>24/03/2020</td>\n",
       "      <td>Full</td>\n",
       "      <td>https://www.theolivepress.es/spain-news/2020/0...</td>\n",
       "    </tr>\n",
       "    <tr>\n",
       "      <th>241</th>\n",
       "      <td>United Kingdom</td>\n",
       "      <td>Isle of Man</td>\n",
       "      <td>23/03/2020</td>\n",
       "      <td>Full</td>\n",
       "      <td>https://en.wikipedia.org/wiki/2020_coronavirus...</td>\n",
       "    </tr>\n",
       "    <tr>\n",
       "      <th>242</th>\n",
       "      <td>United Kingdom</td>\n",
       "      <td>Montserrat</td>\n",
       "      <td>NaN</td>\n",
       "      <td>None</td>\n",
       "      <td>NaN</td>\n",
       "    </tr>\n",
       "    <tr>\n",
       "      <th>243</th>\n",
       "      <td>United Kingdom</td>\n",
       "      <td>Turks and Caicos Islands</td>\n",
       "      <td>27/03/2020</td>\n",
       "      <td>Full</td>\n",
       "      <td>https://en.wikipedia.org/wiki/2020_coronavirus...</td>\n",
       "    </tr>\n",
       "    <tr>\n",
       "      <th>244</th>\n",
       "      <td>United Kingdom</td>\n",
       "      <td>NaN</td>\n",
       "      <td>23/03/2020</td>\n",
       "      <td>Full</td>\n",
       "      <td>https://www.businessinsider.com/countries-on-l...</td>\n",
       "    </tr>\n",
       "  </tbody>\n",
       "</table>\n",
       "</div>"
      ],
      "text/plain": [
       "     Country/Region                  Province        Date  Type  \\\n",
       "235  United Kingdom                  Anguilla  18/03/2020  Full   \n",
       "236  United Kingdom                   Bermuda         NaN  None   \n",
       "237  United Kingdom    British Virgin Islands         NaN  None   \n",
       "238  United Kingdom            Cayman Islands         NaN  None   \n",
       "239  United Kingdom           Channel Islands         NaN  None   \n",
       "240  United Kingdom                 Gibraltar  24/03/2020  Full   \n",
       "241  United Kingdom               Isle of Man  23/03/2020  Full   \n",
       "242  United Kingdom                Montserrat         NaN  None   \n",
       "243  United Kingdom  Turks and Caicos Islands  27/03/2020  Full   \n",
       "244  United Kingdom                       NaN  23/03/2020  Full   \n",
       "\n",
       "                                             Reference  \n",
       "235  https://en.wikipedia.org/wiki/2020_coronavirus...  \n",
       "236                                                NaN  \n",
       "237                                                NaN  \n",
       "238                                                NaN  \n",
       "239                                                NaN  \n",
       "240  https://www.theolivepress.es/spain-news/2020/0...  \n",
       "241  https://en.wikipedia.org/wiki/2020_coronavirus...  \n",
       "242                                                NaN  \n",
       "243  https://en.wikipedia.org/wiki/2020_coronavirus...  \n",
       "244  https://www.businessinsider.com/countries-on-l...  "
      ]
     },
     "execution_count": 12,
     "metadata": {},
     "output_type": "execute_result"
    }
   ],
   "source": [
    "#Lets locate and isolate UK data\n",
    "df_lockdown_UK = df_lockdown[df_lockdown['Country/Region'] == 'United Kingdom']\n",
    "df_lockdown_UK"
   ]
  },
  {
   "cell_type": "code",
   "execution_count": 13,
   "id": "bdf37755",
   "metadata": {},
   "outputs": [
    {
     "data": {
      "text/html": [
       "<div>\n",
       "<style scoped>\n",
       "    .dataframe tbody tr th:only-of-type {\n",
       "        vertical-align: middle;\n",
       "    }\n",
       "\n",
       "    .dataframe tbody tr th {\n",
       "        vertical-align: top;\n",
       "    }\n",
       "\n",
       "    .dataframe thead th {\n",
       "        text-align: right;\n",
       "    }\n",
       "</style>\n",
       "<table border=\"1\" class=\"dataframe\">\n",
       "  <thead>\n",
       "    <tr style=\"text-align: right;\">\n",
       "      <th></th>\n",
       "      <th>244</th>\n",
       "    </tr>\n",
       "  </thead>\n",
       "  <tbody>\n",
       "    <tr>\n",
       "      <th>Country/Region</th>\n",
       "      <td>United Kingdom</td>\n",
       "    </tr>\n",
       "    <tr>\n",
       "      <th>Province</th>\n",
       "      <td>NaN</td>\n",
       "    </tr>\n",
       "    <tr>\n",
       "      <th>Date</th>\n",
       "      <td>23/03/2020</td>\n",
       "    </tr>\n",
       "    <tr>\n",
       "      <th>Type</th>\n",
       "      <td>Full</td>\n",
       "    </tr>\n",
       "    <tr>\n",
       "      <th>Reference</th>\n",
       "      <td>https://www.businessinsider.com/countries-on-l...</td>\n",
       "    </tr>\n",
       "  </tbody>\n",
       "</table>\n",
       "</div>"
      ],
      "text/plain": [
       "                                                              244\n",
       "Country/Region                                     United Kingdom\n",
       "Province                                                      NaN\n",
       "Date                                                   23/03/2020\n",
       "Type                                                         Full\n",
       "Reference       https://www.businessinsider.com/countries-on-l..."
      ]
     },
     "execution_count": 13,
     "metadata": {},
     "output_type": "execute_result"
    }
   ],
   "source": [
    "#A few here and we only want UK so i'll need to be more specific, as I need index 244 'NaN' I can just select that\n",
    "df_lockdown_UK = df_lockdown.loc[244]\n",
    "df_lockdown_UK = pd.DataFrame(df_lockdown_UK)\n",
    "df_lockdown_UK"
   ]
  },
  {
   "cell_type": "code",
   "execution_count": 14,
   "id": "76815652",
   "metadata": {},
   "outputs": [
    {
     "data": {
      "text/plain": [
       "<matplotlib.lines.Line2D at 0x1c0d88e2ee0>"
      ]
     },
     "execution_count": 14,
     "metadata": {},
     "output_type": "execute_result"
    },
    {
     "data": {
      "image/png": "[encoded data removed]",
      "text/plain": [
       "<Figure size 2160x360 with 1 Axes>"
      ]
     },
     "metadata": {
      "needs_background": "light"
     },
     "output_type": "display_data"
    }
   ],
   "source": [
    "#Now I have my lockdown date I can plot this on a graph with the five years of data and see what that looks like\n",
    "import matplotlib.pyplot as plt\n",
    "df_power_GB_MTH.plot(grid=True)\n",
    "plt.axvline(x='2020-03-23')"
   ]
  },
  {
   "cell_type": "markdown",
   "id": "ee239dd1",
   "metadata": {},
   "source": [
    "At first glance there seems to be an abnormal fall in power load at the same time a lockdown. It dooes not follow the usual pattern of the last five years. Below I'll oook in a little more detail to see if this is indeed the case.\n",
    "\n",
    "To do this I'll simply take a look at the percentage change month to month from the same period each year."
   ]
  },
  {
   "cell_type": "code",
   "execution_count": 15,
   "id": "6d2c75ea",
   "metadata": {},
   "outputs": [
    {
     "data": {
      "text/html": [
       "<div>\n",
       "<style scoped>\n",
       "    .dataframe tbody tr th:only-of-type {\n",
       "        vertical-align: middle;\n",
       "    }\n",
       "\n",
       "    .dataframe tbody tr th {\n",
       "        vertical-align: top;\n",
       "    }\n",
       "\n",
       "    .dataframe thead th {\n",
       "        text-align: right;\n",
       "    }\n",
       "</style>\n",
       "<table border=\"1\" class=\"dataframe\">\n",
       "  <thead>\n",
       "    <tr style=\"text-align: right;\">\n",
       "      <th></th>\n",
       "      <th>load</th>\n",
       "      <th>Year-Month</th>\n",
       "    </tr>\n",
       "    <tr>\n",
       "      <th>Year-Month</th>\n",
       "      <th></th>\n",
       "      <th></th>\n",
       "    </tr>\n",
       "  </thead>\n",
       "  <tbody>\n",
       "    <tr>\n",
       "      <th>2015-01-01</th>\n",
       "      <td>NaN</td>\n",
       "      <td>2015-01-01</td>\n",
       "    </tr>\n",
       "    <tr>\n",
       "      <th>2015-02-01</th>\n",
       "      <td>-0.058300</td>\n",
       "      <td>2015-02-01</td>\n",
       "    </tr>\n",
       "    <tr>\n",
       "      <th>2015-03-01</th>\n",
       "      <td>0.032351</td>\n",
       "      <td>2015-03-01</td>\n",
       "    </tr>\n",
       "    <tr>\n",
       "      <th>2015-04-01</th>\n",
       "      <td>-0.148699</td>\n",
       "      <td>2015-04-01</td>\n",
       "    </tr>\n",
       "    <tr>\n",
       "      <th>2015-05-01</th>\n",
       "      <td>0.014396</td>\n",
       "      <td>2015-05-01</td>\n",
       "    </tr>\n",
       "  </tbody>\n",
       "</table>\n",
       "</div>"
      ],
      "text/plain": [
       "                load Year-Month\n",
       "Year-Month                     \n",
       "2015-01-01       NaN 2015-01-01\n",
       "2015-02-01 -0.058300 2015-02-01\n",
       "2015-03-01  0.032351 2015-03-01\n",
       "2015-04-01 -0.148699 2015-04-01\n",
       "2015-05-01  0.014396 2015-05-01"
      ]
     },
     "execution_count": 15,
     "metadata": {},
     "output_type": "execute_result"
    }
   ],
   "source": [
    "#Get table with percentage change\n",
    "df_power_GB_MTH_pct = df_power_GB_MTH.pct_change()\n",
    "df_power_GB_MTH_pct['Year-Month'] = df_power_GB_MTH_pct.index\n",
    "df_power_GB_MTH_pct.head()"
   ]
  },
  {
   "cell_type": "code",
   "execution_count": 16,
   "id": "0d39e096",
   "metadata": {},
   "outputs": [
    {
     "data": {
      "text/html": [
       "<div>\n",
       "<style scoped>\n",
       "    .dataframe tbody tr th:only-of-type {\n",
       "        vertical-align: middle;\n",
       "    }\n",
       "\n",
       "    .dataframe tbody tr th {\n",
       "        vertical-align: top;\n",
       "    }\n",
       "\n",
       "    .dataframe thead th {\n",
       "        text-align: right;\n",
       "    }\n",
       "</style>\n",
       "<table border=\"1\" class=\"dataframe\">\n",
       "  <thead>\n",
       "    <tr style=\"text-align: right;\">\n",
       "      <th></th>\n",
       "      <th>load</th>\n",
       "      <th>Year-Month</th>\n",
       "    </tr>\n",
       "    <tr>\n",
       "      <th>Year-Month</th>\n",
       "      <th></th>\n",
       "      <th></th>\n",
       "    </tr>\n",
       "  </thead>\n",
       "  <tbody>\n",
       "    <tr>\n",
       "      <th>2015-04-01</th>\n",
       "      <td>-0.148699</td>\n",
       "      <td>2015-04-01</td>\n",
       "    </tr>\n",
       "    <tr>\n",
       "      <th>2016-04-01</th>\n",
       "      <td>-0.102499</td>\n",
       "      <td>2016-04-01</td>\n",
       "    </tr>\n",
       "    <tr>\n",
       "      <th>2017-04-01</th>\n",
       "      <td>-0.112151</td>\n",
       "      <td>2017-04-01</td>\n",
       "    </tr>\n",
       "    <tr>\n",
       "      <th>2018-04-01</th>\n",
       "      <td>-0.141964</td>\n",
       "      <td>2018-04-01</td>\n",
       "    </tr>\n",
       "    <tr>\n",
       "      <th>2019-04-01</th>\n",
       "      <td>-0.106669</td>\n",
       "      <td>2019-04-01</td>\n",
       "    </tr>\n",
       "    <tr>\n",
       "      <th>2020-04-01</th>\n",
       "      <td>-0.226319</td>\n",
       "      <td>2020-04-01</td>\n",
       "    </tr>\n",
       "  </tbody>\n",
       "</table>\n",
       "</div>"
      ],
      "text/plain": [
       "                load Year-Month\n",
       "Year-Month                     \n",
       "2015-04-01 -0.148699 2015-04-01\n",
       "2016-04-01 -0.102499 2016-04-01\n",
       "2017-04-01 -0.112151 2017-04-01\n",
       "2018-04-01 -0.141964 2018-04-01\n",
       "2019-04-01 -0.106669 2019-04-01\n",
       "2020-04-01 -0.226319 2020-04-01"
      ]
     },
     "execution_count": 16,
     "metadata": {},
     "output_type": "execute_result"
    }
   ],
   "source": [
    "#Isolate the period of interest\n",
    "array = ['2015-04-01', '2016-04-01', '2017-04-01', '2018-04-01', '2019-04-01', '2020-04-01']\n",
    "df_power_GB_MTH_pct_2 = df_power_GB_MTH_pct.loc[df_power_GB_MTH_pct['Year-Month'].isin(array)]\n",
    "df_power_GB_MTH_pct_2"
   ]
  },
  {
   "cell_type": "code",
   "execution_count": 17,
   "id": "7deeac49",
   "metadata": {},
   "outputs": [
    {
     "data": {
      "text/html": [
       "<div>\n",
       "<style scoped>\n",
       "    .dataframe tbody tr th:only-of-type {\n",
       "        vertical-align: middle;\n",
       "    }\n",
       "\n",
       "    .dataframe tbody tr th {\n",
       "        vertical-align: top;\n",
       "    }\n",
       "\n",
       "    .dataframe thead th {\n",
       "        text-align: right;\n",
       "    }\n",
       "</style>\n",
       "<table border=\"1\" class=\"dataframe\">\n",
       "  <thead>\n",
       "    <tr style=\"text-align: right;\">\n",
       "      <th></th>\n",
       "      <th>load</th>\n",
       "    </tr>\n",
       "  </thead>\n",
       "  <tbody>\n",
       "    <tr>\n",
       "      <th>count</th>\n",
       "      <td>6.000000</td>\n",
       "    </tr>\n",
       "    <tr>\n",
       "      <th>mean</th>\n",
       "      <td>-0.139717</td>\n",
       "    </tr>\n",
       "    <tr>\n",
       "      <th>std</th>\n",
       "      <td>0.046525</td>\n",
       "    </tr>\n",
       "    <tr>\n",
       "      <th>min</th>\n",
       "      <td>-0.226319</td>\n",
       "    </tr>\n",
       "    <tr>\n",
       "      <th>25%</th>\n",
       "      <td>-0.147015</td>\n",
       "    </tr>\n",
       "    <tr>\n",
       "      <th>50%</th>\n",
       "      <td>-0.127057</td>\n",
       "    </tr>\n",
       "    <tr>\n",
       "      <th>75%</th>\n",
       "      <td>-0.108039</td>\n",
       "    </tr>\n",
       "    <tr>\n",
       "      <th>max</th>\n",
       "      <td>-0.102499</td>\n",
       "    </tr>\n",
       "  </tbody>\n",
       "</table>\n",
       "</div>"
      ],
      "text/plain": [
       "           load\n",
       "count  6.000000\n",
       "mean  -0.139717\n",
       "std    0.046525\n",
       "min   -0.226319\n",
       "25%   -0.147015\n",
       "50%   -0.127057\n",
       "75%   -0.108039\n",
       "max   -0.102499"
      ]
     },
     "execution_count": 17,
     "metadata": {},
     "output_type": "execute_result"
    }
   ],
   "source": [
    "#Describe data\n",
    "df_power_GB_MTH_pct_2.describe()"
   ]
  },
  {
   "cell_type": "markdown",
   "id": "9d960c55",
   "metadata": {},
   "source": [
    "From the above I can clearly see that the drop in april 2020 was significantly higher than the average for the data set. This would suggest that there is an effect of lockdown felt in 2020.\n",
    "\n",
    "To be sure that it was not just a fast drop but ultimately at the same level I'll need to take a look across the full drop period and see the result. If I look closely at the graph data by month I can see that the dro range for the season is '03-06' for four out of the five months so this will be okay to use as out basis is we consider 2016 to be an outlier."
   ]
  },
  {
   "cell_type": "code",
   "execution_count": 18,
   "id": "1688dbf3",
   "metadata": {},
   "outputs": [
    {
     "data": {
      "text/plain": [
       "<matplotlib.lines.Line2D at 0x1c0d89fe1f0>"
      ]
     },
     "execution_count": 18,
     "metadata": {},
     "output_type": "execute_result"
    },
    {
     "data": {
      "image/png": "[encoded data removed]",
      "text/plain": [
       "<Figure size 2160x360 with 1 Axes>"
      ]
     },
     "metadata": {
      "needs_background": "light"
     },
     "output_type": "display_data"
    }
   ],
   "source": [
    "df_power_GB_MTH.plot(grid=True)\n",
    "plt.axvline(x='2015-03')\n",
    "plt.axvline(x='2015-06')\n",
    "\n",
    "plt.axvline(x='2016-03')\n",
    "plt.axvline(x='2016-06')\n",
    "plt.axvline(x='2016-09')\n",
    "\n",
    "plt.axvline(x='2017-03')\n",
    "plt.axvline(x='2017-06')\n",
    "\n",
    "plt.axvline(x='2018-03')\n",
    "plt.axvline(x='2018-06')\n",
    "\n",
    "plt.axvline(x='2019-03')\n",
    "plt.axvline(x='2019-06')\n",
    "\n",
    "plt.axvline(x='2020-03')\n",
    "plt.axvline(x='2020-06')"
   ]
  },
  {
   "cell_type": "markdown",
   "id": "44cd2fc7",
   "metadata": {},
   "source": [
    "Looking at the overall drop for the period above. I expect to see somewhere in the region of a 33% additional decrease compared to the prviouse five years."
   ]
  },
  {
   "cell_type": "code",
   "execution_count": 19,
   "id": "24ace0dc",
   "metadata": {},
   "outputs": [
    {
     "data": {
      "text/html": [
       "<div>\n",
       "<style scoped>\n",
       "    .dataframe tbody tr th:only-of-type {\n",
       "        vertical-align: middle;\n",
       "    }\n",
       "\n",
       "    .dataframe tbody tr th {\n",
       "        vertical-align: top;\n",
       "    }\n",
       "\n",
       "    .dataframe thead th {\n",
       "        text-align: right;\n",
       "    }\n",
       "</style>\n",
       "<table border=\"1\" class=\"dataframe\">\n",
       "  <thead>\n",
       "    <tr style=\"text-align: right;\">\n",
       "      <th></th>\n",
       "      <th>load</th>\n",
       "      <th>Year-Month</th>\n",
       "    </tr>\n",
       "    <tr>\n",
       "      <th>Year-Month</th>\n",
       "      <th></th>\n",
       "      <th></th>\n",
       "    </tr>\n",
       "  </thead>\n",
       "  <tbody>\n",
       "    <tr>\n",
       "      <th>2015-01-01</th>\n",
       "      <td>NaN</td>\n",
       "      <td>2015-01-01</td>\n",
       "    </tr>\n",
       "    <tr>\n",
       "      <th>2015-02-01</th>\n",
       "      <td>NaN</td>\n",
       "      <td>2015-02-01</td>\n",
       "    </tr>\n",
       "    <tr>\n",
       "      <th>2015-03-01</th>\n",
       "      <td>NaN</td>\n",
       "      <td>2015-03-01</td>\n",
       "    </tr>\n",
       "    <tr>\n",
       "      <th>2015-04-01</th>\n",
       "      <td>-0.172396</td>\n",
       "      <td>2015-04-01</td>\n",
       "    </tr>\n",
       "    <tr>\n",
       "      <th>2015-05-01</th>\n",
       "      <td>-0.108507</td>\n",
       "      <td>2015-05-01</td>\n",
       "    </tr>\n",
       "  </tbody>\n",
       "</table>\n",
       "</div>"
      ],
      "text/plain": [
       "                load Year-Month\n",
       "Year-Month                     \n",
       "2015-01-01       NaN 2015-01-01\n",
       "2015-02-01       NaN 2015-02-01\n",
       "2015-03-01       NaN 2015-03-01\n",
       "2015-04-01 -0.172396 2015-04-01\n",
       "2015-05-01 -0.108507 2015-05-01"
      ]
     },
     "execution_count": 19,
     "metadata": {},
     "output_type": "execute_result"
    }
   ],
   "source": [
    "df_power_GB_MTH_pct_3 = df_power_GB_MTH.pct_change(periods=3)\n",
    "df_power_GB_MTH_pct_3['Year-Month'] = df_power_GB_MTH_pct_3.index\n",
    "df_power_GB_MTH_pct_3.head()"
   ]
  },
  {
   "cell_type": "code",
   "execution_count": 20,
   "id": "c1f7ec30",
   "metadata": {},
   "outputs": [
    {
     "data": {
      "text/html": [
       "<div>\n",
       "<style scoped>\n",
       "    .dataframe tbody tr th:only-of-type {\n",
       "        vertical-align: middle;\n",
       "    }\n",
       "\n",
       "    .dataframe tbody tr th {\n",
       "        vertical-align: top;\n",
       "    }\n",
       "\n",
       "    .dataframe thead th {\n",
       "        text-align: right;\n",
       "    }\n",
       "</style>\n",
       "<table border=\"1\" class=\"dataframe\">\n",
       "  <thead>\n",
       "    <tr style=\"text-align: right;\">\n",
       "      <th></th>\n",
       "      <th>load</th>\n",
       "      <th>Year-Month</th>\n",
       "    </tr>\n",
       "    <tr>\n",
       "      <th>Year-Month</th>\n",
       "      <th></th>\n",
       "      <th></th>\n",
       "    </tr>\n",
       "  </thead>\n",
       "  <tbody>\n",
       "    <tr>\n",
       "      <th>2015-06-01</th>\n",
       "      <td>-0.180187</td>\n",
       "      <td>2015-06-01</td>\n",
       "    </tr>\n",
       "    <tr>\n",
       "      <th>2016-06-01</th>\n",
       "      <td>-0.182443</td>\n",
       "      <td>2016-06-01</td>\n",
       "    </tr>\n",
       "    <tr>\n",
       "      <th>2017-06-01</th>\n",
       "      <td>-0.177069</td>\n",
       "      <td>2017-06-01</td>\n",
       "    </tr>\n",
       "    <tr>\n",
       "      <th>2018-06-01</th>\n",
       "      <td>-0.227082</td>\n",
       "      <td>2018-06-01</td>\n",
       "    </tr>\n",
       "    <tr>\n",
       "      <th>2019-06-01</th>\n",
       "      <td>-0.192916</td>\n",
       "      <td>2019-06-01</td>\n",
       "    </tr>\n",
       "    <tr>\n",
       "      <th>2020-06-01</th>\n",
       "      <td>-0.269508</td>\n",
       "      <td>2020-06-01</td>\n",
       "    </tr>\n",
       "  </tbody>\n",
       "</table>\n",
       "</div>"
      ],
      "text/plain": [
       "                load Year-Month\n",
       "Year-Month                     \n",
       "2015-06-01 -0.180187 2015-06-01\n",
       "2016-06-01 -0.182443 2016-06-01\n",
       "2017-06-01 -0.177069 2017-06-01\n",
       "2018-06-01 -0.227082 2018-06-01\n",
       "2019-06-01 -0.192916 2019-06-01\n",
       "2020-06-01 -0.269508 2020-06-01"
      ]
     },
     "execution_count": 20,
     "metadata": {},
     "output_type": "execute_result"
    }
   ],
   "source": [
    "array = ['2015-06-01', '2016-06-01', '2017-06-01', '2018-06-01', '2019-06-01', '2020-06-01']\n",
    "df_power_GB_MTH_pct_3 = df_power_GB_MTH_pct_3.loc[df_power_GB_MTH_pct_3['Year-Month'].isin(array)]\n",
    "df_power_GB_MTH_pct_3"
   ]
  },
  {
   "cell_type": "code",
   "execution_count": 21,
   "id": "d719163f",
   "metadata": {},
   "outputs": [
    {
     "data": {
      "text/html": [
       "<div>\n",
       "<style scoped>\n",
       "    .dataframe tbody tr th:only-of-type {\n",
       "        vertical-align: middle;\n",
       "    }\n",
       "\n",
       "    .dataframe tbody tr th {\n",
       "        vertical-align: top;\n",
       "    }\n",
       "\n",
       "    .dataframe thead th {\n",
       "        text-align: right;\n",
       "    }\n",
       "</style>\n",
       "<table border=\"1\" class=\"dataframe\">\n",
       "  <thead>\n",
       "    <tr style=\"text-align: right;\">\n",
       "      <th></th>\n",
       "      <th>load</th>\n",
       "    </tr>\n",
       "  </thead>\n",
       "  <tbody>\n",
       "    <tr>\n",
       "      <th>count</th>\n",
       "      <td>6.000000</td>\n",
       "    </tr>\n",
       "    <tr>\n",
       "      <th>mean</th>\n",
       "      <td>-0.204867</td>\n",
       "    </tr>\n",
       "    <tr>\n",
       "      <th>std</th>\n",
       "      <td>0.036604</td>\n",
       "    </tr>\n",
       "    <tr>\n",
       "      <th>min</th>\n",
       "      <td>-0.269508</td>\n",
       "    </tr>\n",
       "    <tr>\n",
       "      <th>25%</th>\n",
       "      <td>-0.218540</td>\n",
       "    </tr>\n",
       "    <tr>\n",
       "      <th>50%</th>\n",
       "      <td>-0.187680</td>\n",
       "    </tr>\n",
       "    <tr>\n",
       "      <th>75%</th>\n",
       "      <td>-0.180751</td>\n",
       "    </tr>\n",
       "    <tr>\n",
       "      <th>max</th>\n",
       "      <td>-0.177069</td>\n",
       "    </tr>\n",
       "  </tbody>\n",
       "</table>\n",
       "</div>"
      ],
      "text/plain": [
       "           load\n",
       "count  6.000000\n",
       "mean  -0.204867\n",
       "std    0.036604\n",
       "min   -0.269508\n",
       "25%   -0.218540\n",
       "50%   -0.187680\n",
       "75%   -0.180751\n",
       "max   -0.177069"
      ]
     },
     "execution_count": 21,
     "metadata": {},
     "output_type": "execute_result"
    }
   ],
   "source": [
    "df_power_GB_MTH_pct_3.describe()"
   ]
  },
  {
   "cell_type": "markdown",
   "id": "ec3590f7",
   "metadata": {},
   "source": [
    "A look at the above data tells us that over the period the mean load decrease from 03-06 was 20.5% while the load decrease for 2020 during the lockdwon period was 27.0%. So we have an additional drop in load over the lockdown period of 6.5 percnetager points."
   ]
  }
 ],
 "metadata": {
  "kernelspec": {
   "display_name": "Python 3",
   "language": "python",
   "name": "python3"
  },
  "language_info": {
   "codemirror_mode": {
    "name": "ipython",
    "version": 3
   },
   "file_extension": ".py",
   "mimetype": "text/x-python",
   "name": "python",
   "nbconvert_exporter": "python",
   "pygments_lexer": "ipython3",
   "version": "3.8.8"
  }
 },
 "nbformat": 4,
 "nbformat_minor": 5
}
